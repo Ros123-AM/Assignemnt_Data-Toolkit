{
  "nbformat": 4,
  "nbformat_minor": 0,
  "metadata": {
    "colab": {
      "provenance": []
    },
    "kernelspec": {
      "name": "python3",
      "display_name": "Python 3"
    },
    "language_info": {
      "name": "python"
    }
  },
  "cells": [
    {
      "cell_type": "markdown",
      "source": [
        "# Assignemnt_Data Toolkit"
      ],
      "metadata": {
        "id": "CMFoYy4tS5Lv"
      }
    },
    {
      "cell_type": "markdown",
      "source": [
        "1-  What is NumPy, and why is it widely used in Python?"
      ],
      "metadata": {
        "id": "_6H9TbFNTYns"
      }
    },
    {
      "cell_type": "markdown",
      "source": [
        "Ans- NumPy (Numerical Python) is a fundamental Python library used for numerical and scientific computing. It provides a powerful N-dimensional array object (ndarray) and tools to perform efficient operations on large datasets.\n",
        "- Efficient Array Operations: Fast performance with large arrays compared to native Python lists.\n",
        "- Mathematical Functions: Includes functions for algebra, statistics, and more.\n",
        "- Broadcasting: Allows operations on arrays of different shapes without writing loops.\n",
        "- Integration: Forms the core of libraries like Pandas, SciPy, and TensorFlow.\n",
        "- Ease of Use: Simple syntax for complex numerical tasks."
      ],
      "metadata": {
        "id": "tcLu_2eOTags"
      }
    },
    {
      "cell_type": "markdown",
      "source": [
        "2-  How does broadcasting work in NumPy?"
      ],
      "metadata": {
        "id": "h0vj_qQ9wZf-"
      }
    },
    {
      "cell_type": "markdown",
      "source": [
        "Ans- Broadcasting in NumPy allows arrays of different shapes to be used together in arithmetic operations. It automatically expands the smaller array so that it matches the shape of the larger one, without making actual copies of data.\n",
        "\n",
        "Rules of Broadcasting:\n",
        "- If arrays have different numbers of dimensions, the smaller one is padded with 1s on the left.\n",
        "- Dimensions are compatible when they are equal or one of them is 1.\n",
        "- If dimensions match or are compatible, NumPy performs element-wise operations.\n",
        "\n"
      ],
      "metadata": {
        "id": "YuI4wYAMwkut"
      }
    },
    {
      "cell_type": "markdown",
      "source": [
        "3. What is a Pandas DataFrame?"
      ],
      "metadata": {
        "id": "okdM1erixH7r"
      }
    },
    {
      "cell_type": "markdown",
      "source": [
        "Ans- A Pandas DataFrame is a 2-dimensional, labeled data structure in Python, similar to a table in a database or an Excel spreadsheet. It is part of the Pandas library, which is widely used for data analysis and manipulation.\n",
        "\n",
        "Key Features:\n",
        "- Rows and Columns: Data is stored in rows and columns, each with labels (called index for rows and column names for columns).\n",
        "- Heterogeneous Data: Each column can contain different data types (integers, strings, floats, etc.).\n",
        "- Data Handling: Supports operations like filtering, sorting, grouping, and handling missing data."
      ],
      "metadata": {
        "id": "owTu9LACxMRw"
      }
    },
    {
      "cell_type": "markdown",
      "source": [
        "4. Explain the use of the groupby() method in Pandas?\n"
      ],
      "metadata": {
        "id": "LuBpNFQGxY6s"
      }
    },
    {
      "cell_type": "markdown",
      "source": [
        "Ans- The groupby() method in Pandas is used to split data into groups based on the values in one or more columns. It is commonly used for data aggregation, analysis, and summarization.\n",
        "\n",
        "How it works:\n",
        "- Split: Divide the data into groups based on a key column(s).\n",
        "- Apply: Apply a function to each group (e.g., sum, mean, count).\n",
        "- Combine: Combine the results into a new DataFrame.\n",
        "\n"
      ],
      "metadata": {
        "id": "TIjY_mAlxcyT"
      }
    },
    {
      "cell_type": "markdown",
      "source": [
        "5. Why is Seaborn preferred for statistical visualizations?"
      ],
      "metadata": {
        "id": "MuFHPF_ZxrV9"
      }
    },
    {
      "cell_type": "markdown",
      "source": [
        "Ans- Seaborn is preferred for statistical visualizations in Python because it provides a high-level interface for creating informative and attractive charts. It is built on top of Matplotlib and designed specifically for statistical plotting.\n",
        "\n",
        "Reasons:\n",
        "- Built-in Statistical Functions: Automatically adds elements like confidence intervals and regression lines.\n",
        "- Attractive Default Styles: Comes with aesthetically pleasing color themes and layouts.\n",
        "- Easy Integration with Pandas: Works directly with DataFrames for quick and efficient plotting.\n",
        "- Advanced Plot Types: Supports heatmaps, violin plots, pair plots, and categorical plots useful in data analysis.\n",
        "- Simplified Syntax: Allows users to create complex visualizations with very little code."
      ],
      "metadata": {
        "id": "DTEH5sPDxvwU"
      }
    },
    {
      "cell_type": "markdown",
      "source": [
        "6. What are the differences between NumPy arrays and Python lists?"
      ],
      "metadata": {
        "id": "QGJwDsrDyDAb"
      }
    },
    {
      "cell_type": "markdown",
      "source": [
        "Ans- NumPy Arrays :\n",
        " - Performance:\tFaster and more memory-efficient\n",
        " - Data Type:\tHomogeneous (all elements have same data type)\n",
        " - Functionality:\tSupports advanced mathematical operations\n",
        " - Vectorized Operations:\tYes (element-wise operations without loops)\n",
        " - Memory Usage:\tUses less memory due to fixed data type\n",
        "\n",
        " Python Lists:\n",
        " - Performance:\tSlower, especially with large data sets\n",
        " - Data Type:\tHeterogeneous (can store mixed types)\n",
        " - Functionality: Limited mathematical capabilities\n",
        " - Vectorized Operations: No (requires loops or list comprehensions)\n",
        " - Memory Usage: Uses more memory due to dynamic typing\n",
        "\n"
      ],
      "metadata": {
        "id": "HjNiTOQ5yJAT"
      }
    },
    {
      "cell_type": "markdown",
      "source": [
        "7. What is a heatmap, and when should it be used?"
      ],
      "metadata": {
        "id": "HsqatvuBzUvN"
      }
    },
    {
      "cell_type": "markdown",
      "source": [
        "Ans- A heatmap is a graphical representation of data where individual values are shown as colors in a matrix. It helps to quickly identify patterns, correlations, and variations in large datasets.\n",
        "\n",
        "When to Use a Heatmap:\n",
        "- To show correlation between variables in a dataset (e.g., using a correlation matrix).\n",
        "- To visualize data density or frequency (e.g., website clicks, heatmaps in biology).\n",
        "- To detect patterns or outliers in large numerical datasets.\n",
        "- To compare multiple variables at once using color intensity."
      ],
      "metadata": {
        "id": "o991AivEzYhj"
      }
    },
    {
      "cell_type": "markdown",
      "source": [
        "8. What does the term “vectorized operation” mean in NumPy?"
      ],
      "metadata": {
        "id": "lbjLCviAzmJT"
      }
    },
    {
      "cell_type": "markdown",
      "source": [
        "Ans- A vectorized operation in NumPy refers to performing operations on entire arrays (vectors, matrices, etc.) without using explicit loops. These operations are implemented in low-level C code, making them faster and more efficient than traditional Python loops.\n",
        "\n",
        "Key Points:\n",
        "- Applies operations element-wise on arrays.\n",
        "- No need for for loops – code is cleaner and easier to read.\n",
        "- Faster execution due to optimized backend.\n",
        "- Memory efficient compared to iterating over lists.\n",
        "\n"
      ],
      "metadata": {
        "id": "4SkllrudzqIs"
      }
    },
    {
      "cell_type": "markdown",
      "source": [
        "9.  How does Matplotlib differ from Plotly?"
      ],
      "metadata": {
        "id": "lxJahIdUz2M7"
      }
    },
    {
      "cell_type": "markdown",
      "source": [
        "Ans- Matplotlib and Plotly are both popular Python libraries for data visualization, but they differ in terms of functionality, usability, and the types of visualizations they support.\n",
        "\n",
        "Key Differences:\n",
        "- Interactivity:\n",
        "  - Matplotlib: Primarily static plots. Interaction is limited (e.g., zooming, panning).\n",
        "  - Plotly: Supports interactive plots out-of-the-box (zoom, pan, hover tooltips, etc.).\n",
        "- Customization:\n",
        "  - Matplotlib: Offers extensive customization, but often requires more code for complex visualizations.\n",
        "  - Plotly: Provides easy-to-use, high-level functions with built-in interactive features and beautiful default styles.\n",
        "- Plot Types:\n",
        "  - Matplotlib: Good for basic 2D plots (line, scatter, bar, etc.). More suitable for static visualizations.\n",
        "  - Plotly: Supports a wide variety of interactive plots, including 3D plots, geographic maps, and animated charts.\n",
        "- Output:\n",
        "  - Matplotlib: Outputs static images (PNG, PDF, etc.), and can be embedded in notebooks.\n",
        "  - Plotly: Can output dynamic web-based visualizations (HTML) suitable for dashboards and reports.\n",
        "- Use Cases:\n",
        "  - Matplotlib: Preferred for static, publication-quality plots.\n",
        "  - Plotly: Ideal for web-based, interactive data exploration and presentations."
      ],
      "metadata": {
        "id": "-yjq-ZNmz59L"
      }
    },
    {
      "cell_type": "markdown",
      "source": [
        "10. What is the significance of hierarchical indexing in Pandas?"
      ],
      "metadata": {
        "id": "LK6_w6iH0b_t"
      }
    },
    {
      "cell_type": "markdown",
      "source": [
        "Ans- Hierarchical indexing (also called MultiIndex) in Pandas allows you to work with multiple levels of indexing on rows and columns. This enables more complex data organization and efficient querying for data analysis.\n",
        "\n",
        " Significance:\n",
        "- Handling Multi-dimensional Data: Hierarchical indexing allows for representing data with more than one index level, such as when dealing with data grouped by multiple factors (e.g., region and year).\n",
        "- Simplified Data Selection: Makes it easier to access data at multiple levels (rows/columns), providing a flexible and intuitive way to query subsets of the data.\n",
        "- Efficient Aggregation and Grouping: Facilitates multi-level grouping, which is useful for performing aggregated operations (e.g., sum, mean) on grouped data across multiple dimensions.\n",
        "- Improved Data Organization: Helps structure complex datasets with multiple categorical dimensions, making the data easier to navigate and analyze.\n",
        "- Advanced Indexing: Allows advanced slicing and indexing, where you can select data based on one or more levels of the index, improving both flexibility and efficiency."
      ],
      "metadata": {
        "id": "3VSEWweQ0f-t"
      }
    },
    {
      "cell_type": "markdown",
      "source": [
        "11. What is the role of Seaborn’s pairplot() function?"
      ],
      "metadata": {
        "id": "ngrmrN4n0ssr"
      }
    },
    {
      "cell_type": "markdown",
      "source": [
        "Ans- Seaborn's pairplot() function is a powerful tool used for visualizing pairwise relationships between multiple variables in a dataset. It generates a grid of scatter plots for every combination of features and includes histograms or kernel density estimates on the diagonal to show the distribution of individual features.\n",
        "\n",
        "Roles:\n",
        "- Visualizing Relationships: It helps explore relationships between all pairs of numerical variables in a dataset, which is essential for understanding correlations and dependencies.\n",
        "- Identifying Patterns and Outliers: By visualizing all pairwise combinations, it helps to spot trends, clusters, and outliers in the data, aiding in feature selection and preprocessing.\n",
        "- Diagonal Plots for Distributions: On the diagonal, pairplot() shows the univariate distributions (e.g., histograms or KDEs), providing insights into the distribution of each feature.\n",
        "- Color-Coding by Categories: It allows you to color-code points based on categorical variables, making it easier to spot patterns for different groups in your data.\n",
        "- Quick Data Exploration: Provides a quick and efficient way to visualize and interpret complex datasets with multiple variables."
      ],
      "metadata": {
        "id": "jHynzS7O0yTV"
      }
    },
    {
      "cell_type": "markdown",
      "source": [
        "12. What is the purpose of the describe() function in Pandas?"
      ],
      "metadata": {
        "id": "VmiOL6sO1Bmk"
      }
    },
    {
      "cell_type": "markdown",
      "source": [
        "Ans- The describe() function in Pandas is used to generate summary statistics of the numerical columns in a DataFrame or Series. It provides quick insights into the central tendency, spread, and distribution of the data, making it an essential tool for exploratory data analysis (EDA).\n",
        "\n",
        "Purpose:\n",
        "- Summary Statistics: It computes important statistical measures like the mean, standard deviation, minimum, maximum, and percentiles (25th, 50th, and 75th).\n",
        "- Data Overview: Gives a quick summary of the dataset’s numerical features, helping you understand the range and spread of the data.\n",
        "- Missing Values: Shows the count of non-null values, helping you detect missing data.\n",
        "- Helps with Data Cleaning: Identifying outliers or unusual values, and checking the distribution of data across variables.\n",
        "- Efficient EDA: Provides a compact view of the data, allowing you to spot any potential issues or trends before doing more complex analysis.\n",
        "\n"
      ],
      "metadata": {
        "id": "8oml0Utm1Gds"
      }
    },
    {
      "cell_type": "markdown",
      "source": [
        "13. Why is handling missing data important in Pandas?"
      ],
      "metadata": {
        "id": "-a0R3kp31nCr"
      }
    },
    {
      "cell_type": "markdown",
      "source": [
        "Ans- Handling missing data is crucial in Pandas because incomplete datasets can lead to inaccurate or biased analysis, affecting the validity of the results. Proper handling ensures better data quality and more reliable outcomes from data analysis or machine learning models.\n",
        "\n",
        "Importance of Handling Missing Data:\n",
        "- Prevents Bias: If missing data is not handled, it can introduce bias into your analysis or models, especially if the missing data is not random.\n",
        "- Improves Accuracy: Missing values can distort statistical summaries (mean, median, etc.) and analysis results. Proper handling helps maintain the integrity of the data.\n",
        "- Facilitates Model Training: Most machine learning models and statistical algorithms require complete data. Handling missing values ensures that models can train without errors or bias.\n",
        "- Data Integrity: Proper handling (e.g., filling, interpolation, or dropping) keeps the dataset consistent, which is essential for high-quality data analysis.\n",
        "- Supports Data Cleaning: Identifying and dealing with missing data is a vital part of the data cleaning process, helping to refine and prepare data for further use."
      ],
      "metadata": {
        "id": "4Kem5IJ21pXj"
      }
    },
    {
      "cell_type": "markdown",
      "source": [
        "14. What are the benefits of using Plotly for data visualization?"
      ],
      "metadata": {
        "id": "KUxtRwpE12Y0"
      }
    },
    {
      "cell_type": "markdown",
      "source": [
        "Ans- Plotly is a powerful Python library for creating interactive and high-quality visualizations. It offers several advantages, especially when compared to other visualization tools.\n",
        "\n",
        "Benefits of Using Plotly:\n",
        "- Interactive Visualizations:\n",
        " Plotly enables interactive charts, allowing users to zoom, pan, and hover over elements to get detailed information, which is especially useful for exploring large datasets.\n",
        "- Wide Range of Plot Types:\n",
        " It supports complex visualizations like 3D plots, heatmaps, geographic maps, and animated charts, making it highly versatile for various use cases (e.g., geospatial data, time-series, etc.).\n",
        "- Web-Ready Output:\n",
        " Plotly generates interactive visualizations that can be embedded directly in web applications or saved as HTML files, making it perfect for creating dynamic, shareable reports and dashboards.\n",
        "- Integration with Other Libraries:\n",
        " It integrates seamlessly with Pandas, NumPy, and Jupyter Notebooks, making it easy to visualize data directly from a DataFrame and to use with other data science tools."
      ],
      "metadata": {
        "id": "sJMnwcI317G8"
      }
    },
    {
      "cell_type": "markdown",
      "source": [
        "15.  How does NumPy handle multidimensional arrays?"
      ],
      "metadata": {
        "id": "Puz_yKFc2TWE"
      }
    },
    {
      "cell_type": "markdown",
      "source": [
        "Ans- NumPy handles multidimensional arrays using its ndarray object, which allows for the efficient storage and manipulation of arrays with multiple dimensions. This is a core feature of NumPy, enabling powerful mathematical operations on data organized in higher-dimensional structures like matrices or tensors.\n",
        "\n",
        "How NumPy Handles Multidimensional Arrays:\n",
        "- Multi-Dimensional Array Structure:\n",
        "  - NumPy arrays can have any number of dimensions. For example:\n",
        "  - A 1D array is a simple list of numbers.\n",
        "  - A 2D array is like a matrix (with rows and columns).\n",
        "  - A 3D array can represent data with depth (e.g., an image with color channels).\n",
        "- Efficient Memory Storage:\n",
        "  - NumPy arrays are stored in contiguous blocks of memory, which makes them more efficient for large datasets compared to Python lists.\n",
        "  - The data type (dtype) is uniform across the entire array, allowing NumPy to optimize memory usage and performance.\n",
        "- Indexing and Slicing:\n",
        "  - NumPy allows for advanced indexing and slicing operations to access and modify elements in multidimensional arrays using tuples.\n",
        "  - You can slice arrays along each axis, which is similar to accessing rows and columns in a 2D matrix.\n",
        "- Element-Wise Operations:\n",
        "  - NumPy supports vectorized operations across all dimensions, meaning that mathematical operations can be applied element-wise without the need for explicit loops. This improves performance and simplifies code.\n",
        "- Broadcasting:\n",
        "  - NumPy’s broadcasting feature allows arrays of different shapes to be used in arithmetic operations. The smaller array is \"broadcast\" across the larger array, enabling element-wise operations even when the dimensions do not match.  "
      ],
      "metadata": {
        "id": "AQKMce-Y2Ztz"
      }
    },
    {
      "cell_type": "markdown",
      "source": [
        "16. What is the role of Bokeh in data visualization?"
      ],
      "metadata": {
        "id": "AKr2DvPx26kG"
      }
    },
    {
      "cell_type": "markdown",
      "source": [
        "Ans- Role of Bokeh in Data Visualization:\n",
        "- Interactive Visualizations:\n",
        " Bokeh allows the creation of interactive visualizations such as zooming, panning, and hover effects. This enables users to explore and understand the data more dynamically and interactively.\n",
        "- Web Integration:\n",
        "Bokeh plots can be easily embedded in web applications, dashboards, or exported as HTML files. This makes it suitable for building data-driven web applications or interactive reports.\n",
        "- Wide Range of Plot Types:\n",
        " Bokeh supports a variety of plot types, including scatter plots, line charts, bar charts, heatmaps, and even more advanced visualizations like geographical maps and 3D plots.\n",
        "- High-Performance Visualizations:\n",
        " Bokeh is designed for handling large datasets efficiently, using web-based rendering and enabling fast updates in response to user interactions.\n",
        "- Customizable and Extensible:\n",
        " Bokeh offers extensive customization options for visualizations, including fine-tuning axes, colors, tooltips, and more. It can also be integrated with other tools like Dash for building complete data visualization dashboards.\n",
        "\n"
      ],
      "metadata": {
        "id": "oNI6dDMJ2-Wx"
      }
    },
    {
      "cell_type": "markdown",
      "source": [
        "17. Explain the difference between apply() and map() in Pandas?"
      ],
      "metadata": {
        "id": "VmJ1uSz13aAM"
      }
    },
    {
      "cell_type": "markdown",
      "source": [
        "Ans-\n",
        "- Usage Context:\n",
        "  - apply(): Can be used on both Series and DataFrame objects. It allows you to apply a function along either axis (rows or columns) for DataFrames, or element-wise for Series.\n",
        "  - map(): Primarily used for Series. It applies a function element-wise to each value in the Series, and it is commonly used for transforming or cleaning data.\n",
        "- Scope:\n",
        "  - apply() is more flexible as it can be used to apply a function across rows or columns (in DataFrames) and can handle more complex operations.\n",
        "  - map() is simpler and specifically designed for element-wise transformations, such as replacing values or applying functions to each element in a Series.\n",
        "- Performance:\n",
        "  - map() is typically faster when working with Series because it is optimized for element-wise transformations, while apply() can be slower because it is more general and works with both Series and DataFrames.\n",
        "- Function Argument:\n",
        "  - apply() can accept a variety of input functions, including custom functions, and allows for complex operations (such as aggregation, filtering, etc.).\n",
        "  - map() is limited to simpler transformations, such as mapping values to another set of values, using dictionaries, or applying lambda functions."
      ],
      "metadata": {
        "id": "0ZVy8mLU3eEE"
      }
    },
    {
      "cell_type": "markdown",
      "source": [
        "18. What are some advanced features of NumPy?"
      ],
      "metadata": {
        "id": "sHWywzE535yW"
      }
    },
    {
      "cell_type": "markdown",
      "source": [
        "Ans- NumPy is a powerful library that offers several advanced features beyond basic array operations. These features enhance its ability to handle large datasets and perform complex mathematical computations efficiently. Some of the advanced features of NumPy include:\n",
        "\n",
        "1. Broadcasting:\n",
        "  - Broadcasting allows NumPy to perform arithmetic operations on arrays of different shapes without explicitly reshaping them. It automatically expands the smaller array across the larger one to make their shapes compatible.\n",
        " - This feature eliminates the need for loops in many cases and speeds up the computation.\n",
        "2. Fancy Indexing (or Advanced Indexing):\n",
        " - Fancy indexing allows selecting elements from arrays using arrays of integers or boolean arrays. This allows for more flexible, powerful, and efficient slicing and selection.\n",
        "3. Linear Algebra Operations:\n",
        " - NumPy includes a set of linear algebra functions that allow you to perform matrix multiplications, decompositions, eigenvalue computations, and more.\n",
        " - Functions like np.dot(), np.linalg.inv(), np.linalg.eig(), and np.linalg.svd() enable efficient handling of linear systems and matrix operations.\n",
        "4. Random Module:\n",
        "  - The numpy.random module provides random number generation capabilities for different probability distributions (uniform, normal, binomial, etc.), allowing for simulations, statistical modeling, and bootstrapping.\n",
        "  - Functions like np.random.rand(), np.random.randn(), np.random.choice(), and np.random.seed() are used to generate random arrays or random samples."
      ],
      "metadata": {
        "id": "BvC9lhng3_ak"
      }
    },
    {
      "cell_type": "markdown",
      "source": [
        "19. How does Pandas simplify time series analysis?"
      ],
      "metadata": {
        "id": "yHNhb9Bx4k0c"
      }
    },
    {
      "cell_type": "markdown",
      "source": [
        "Ans- Pandas is a powerful library for data manipulation and analysis, and it provides several built-in features that simplify time series analysis. With its efficient handling of time-related data, Pandas makes it easy to perform various operations, from data cleaning to complex time series forecasting. Below are key ways in which Pandas simplifies time series analysis:\n",
        "\n",
        "1. Date and Time Handling:\n",
        " - Pandas provides a DatetimeIndex and TimedeltaIndex, which makes it easy to work with time-based data. It allows users to convert strings or numeric timestamps into datetime objects, perform date arithmetic, and efficiently manage time series data.\n",
        " - Functions like pd.to_datetime() can automatically parse dates from various formats, and the library supports a wide range of date/time functionality.\n",
        "2.  Resampling and Frequency Conversion:\n",
        " - Pandas makes it easy to resample time series data to a different frequency, such as converting daily data to monthly or quarterly. The resample() method allows you to aggregate data by different time periods (e.g., mean, sum, min, max).\n",
        "  - It supports multiple frequencies, like ‘D’ (daily), ‘M’ (monthly), ‘A’ (annual), ‘H’ (hourly), and more, simplifying the process of handling data at different time granularities.\n",
        "3.  Time-Based Indexing and Slicing:\n",
        " - Time series data can be indexed with datetime objects using DatetimeIndex, which simplifies time-based indexing and slicing.\n",
        "  - You can easily filter or slice data based on date ranges, enabling seamless selection of data for specific periods (e.g., retrieving all data from the last year or the last 30 days  \n",
        "4. Handling Missing Data:\n",
        " - Time series data often has missing values due to gaps in time or data collection. Pandas provides several methods like fillna(), interpolate(), and dropna() to handle missing values efficiently.\n",
        " - These methods allow filling missing data using forward filling, backward filling, or interpolation, which is especially useful in time series analysis where continuity is important.  \n",
        "5.  Time Zone Handling:\n",
        " - Pandas allows for time zone conversion and manipulation through the tz_localize() and tz_convert() methods, making it simple to handle time series data from different time zones.\n",
        "  - This is particularly useful when working with financial data, logs, or IoT data collected across different regions."
      ],
      "metadata": {
        "id": "q-7zK2My4oic"
      }
    },
    {
      "cell_type": "markdown",
      "source": [
        "20. What is the role of a pivot table in Pandas?"
      ],
      "metadata": {
        "id": "tX3PSuhz5ZvF"
      }
    },
    {
      "cell_type": "markdown",
      "source": [
        "Ans- A pivot table in Pandas is a powerful tool for summarizing, aggregating, and reshaping data. It allows users to transform long-format data into a more readable, summary form, often used for data analysis and reporting. Pivot tables are particularly useful for grouping data by one or more categorical variables and then calculating aggregates for each group (such as sum, mean, count, etc.).\n",
        "1. Data Summarization and Aggregation.\n",
        "2. Reshaping Data for Easier Analysis.\n",
        "3.  Multi-Level Grouping.\n",
        "4. Handling Missing Data.\n",
        "5.  Flexibility with Aggregation Functions\n"
      ],
      "metadata": {
        "id": "LTfm_zxH5dzX"
      }
    },
    {
      "cell_type": "markdown",
      "source": [
        "21. Why is NumPy’s array slicing faster than Python’s list slicing?"
      ],
      "metadata": {
        "id": "qc6BZDxH57V0"
      }
    },
    {
      "cell_type": "markdown",
      "source": [
        "Ans- NumPy’s array slicing is generally faster than Python’s list slicing due to several key differences in how NumPy arrays and Python lists are implemented and managed in memory. Below are the primary reasons why NumPy slicing outperforms Python list slicing:\n",
        "\n",
        "1. Contiguous Memory Layout:\n",
        "- NumPy arrays are stored in contiguous blocks of memory, which means that all elements are stored in a single, uninterrupted block. This allows NumPy to take advantage of vectorized operations and low-level optimizations when slicing data.\n",
        "- In contrast, Python lists are implemented as arrays of pointers to objects, meaning the elements can be scattered in memory. This non-contiguous memory layout results in slower access times, as Python needs to dereference each pointer during slicing.\n",
        "2. Optimized Internal Implementation:\n",
        "- NumPy is implemented in C and Cython, which allows for low-level memory manipulation and optimization. It uses highly efficient methods for accessing and slicing data.\n",
        "- On the other hand, Python lists are part of the core Python implementation and are not optimized for performance in the same way as NumPy arrays. Slicing a list involves creating new Python objects, which adds overhead.\n",
        "3. No Data Copying in NumPy:\n",
        "- When slicing a NumPy array, the result is often a view on the original array, meaning it does not involve copying the data but rather references the same memory. This makes slicing very efficient because no data duplication occurs.\n",
        "- Python lists create a new list when sliced, which requires copying the elements to a new list, adding overhead in both time and memory.\n",
        "4. Vectorized Operations:\n",
        "- NumPy provides support for vectorized operations, where entire arrays can be operated on simultaneously without the need for explicit loops. This is possible due to the underlying use of C libraries like BLAS and LAPACK, which are optimized for high performance on large datasets.\n",
        "- Python lists are more general-purpose and do not support this level of optimization. Operations on lists typically require iterating through each element individually, leading to slower performance."
      ],
      "metadata": {
        "id": "nPwebTme5_Qt"
      }
    },
    {
      "cell_type": "markdown",
      "source": [
        "22. What are some common use cases for Seaborn?"
      ],
      "metadata": {
        "id": "c6w_yoIg6iIN"
      }
    },
    {
      "cell_type": "markdown",
      "source": [
        "Ans- Seaborn is a powerful Python library built on top of Matplotlib that simplifies the process of creating informative and attractive statistical visualizations. It provides high-level interfaces for drawing attractive and informative statistical graphics. Here are some common use cases for Seaborn:\n",
        "\n",
        "1. Visualizing Relationships Between Variables:\n",
        "  - Seaborn is commonly used for visualizing the relationships between two or more continuous variables, especially when analyzing correlations or trends. It provides easy-to-use functions like scatterplot() and lineplot() to create plots that show how one variable affects another.\n",
        "  - Example use case: Analyzing the relationship between height and weight in a dataset.\n",
        "2. Distribution Visualization:\n",
        "  - Seaborn allows for distribution visualization through functions like histplot(), kdeplot(), and boxplot(). These visualizations are used to understand the distribution of data and its characteristics (e.g., normality, skewness, and outliers).\n",
        "  - Example use case: Analyzing the distribution of test scores or income levels.  \n",
        "3. ategorical Data Visualization:\n",
        "  - Seaborn excels in visualizing categorical data through functions like barplot(), countplot(), and boxplot(). These plots are useful for comparing the distribution of categories within a dataset and identifying differences or trends between categories.\n",
        "  - Example use case: Comparing the sales of different products or evaluating customer satisfaction across different regions.  \n",
        "4. Heatmaps for Correlation Matrices:\n",
        "  - One of the most powerful features of Seaborn is the ability to easily create heatmaps. heatmap() is commonly used to visualize correlation matrices or any tabular data, where values are represented by color intensity.\n",
        "  - Example use case: Visualizing correlations between features in a dataset or identifying patterns in a confusion matrix for classification tasks.  "
      ],
      "metadata": {
        "id": "sQ6k4CUR6m9z"
      }
    },
    {
      "cell_type": "markdown",
      "source": [
        "# pratical question"
      ],
      "metadata": {
        "id": "6rNRXjGJ7wP1"
      }
    },
    {
      "cell_type": "markdown",
      "source": [
        "1. How do you create a 2D NumPy array and calculate the sum of each row?"
      ],
      "metadata": {
        "id": "foQ6HqFc70ce"
      }
    },
    {
      "cell_type": "code",
      "source": [
        "import numpy as np\n",
        "\n"
      ],
      "metadata": {
        "id": "3lJlM4Kq74sU"
      },
      "execution_count": 1,
      "outputs": []
    },
    {
      "cell_type": "code",
      "source": [
        "arr = np.array([[1, 2, 3],\n",
        "                [4, 5, 6],\n",
        "                [7, 8, 9]])\n",
        "print(arr)\n"
      ],
      "metadata": {
        "colab": {
          "base_uri": "https://localhost:8080/"
        },
        "id": "5O4C-Xm78BYY",
        "outputId": "bcd1cab0-a655-4443-936d-6dcc91aa11c6"
      },
      "execution_count": 2,
      "outputs": [
        {
          "output_type": "stream",
          "name": "stdout",
          "text": [
            "[[1 2 3]\n",
            " [4 5 6]\n",
            " [7 8 9]]\n"
          ]
        }
      ]
    },
    {
      "cell_type": "code",
      "source": [
        "row_sums = np.sum(arr, axis=1)\n",
        "print(row_sums)\n"
      ],
      "metadata": {
        "colab": {
          "base_uri": "https://localhost:8080/"
        },
        "id": "OncuZvMR8E4k",
        "outputId": "c4d83fbb-b3ac-44b2-aaa9-128344bf4de1"
      },
      "execution_count": 3,
      "outputs": [
        {
          "output_type": "stream",
          "name": "stdout",
          "text": [
            "[ 6 15 24]\n"
          ]
        }
      ]
    },
    {
      "cell_type": "markdown",
      "source": [
        "2. Write a Pandas script to find the mean of a specific column in a DataFrame?"
      ],
      "metadata": {
        "id": "IPxlrUZt8Kz-"
      }
    },
    {
      "cell_type": "code",
      "source": [
        "# Step 1: Import pandas\n",
        "import pandas as pd\n",
        "\n",
        "# Step 2: Create a DataFrame\n",
        "data = {\n",
        "    'Name': ['Alice', 'Bob', 'Charlie', 'David', 'Eva'],\n",
        "    'Age': [23, 45, 35, 50, 29],\n",
        "    'Salary': [50000, 60000, 55000, 70000, 65000]\n",
        "}\n",
        "\n",
        "df = pd.DataFrame(data)\n",
        "\n",
        "# Step 3: Calculate the mean of the 'Age' column\n",
        "mean_age = df['Age'].mean()\n",
        "\n",
        "# Output the result\n",
        "print(f\"The mean age is: {mean_age}\")\n"
      ],
      "metadata": {
        "colab": {
          "base_uri": "https://localhost:8080/"
        },
        "id": "JMfdLP_l8PHC",
        "outputId": "ac0a1c76-645b-42f8-87d7-b31807249c75"
      },
      "execution_count": 4,
      "outputs": [
        {
          "output_type": "stream",
          "name": "stdout",
          "text": [
            "The mean age is: 36.4\n"
          ]
        }
      ]
    },
    {
      "cell_type": "markdown",
      "source": [
        "3.  Create a scatter plot using Matplotlib."
      ],
      "metadata": {
        "id": "wKEEArmK8YGt"
      }
    },
    {
      "cell_type": "code",
      "source": [
        "# Step 1: Import Matplotlib\n",
        "import matplotlib.pyplot as plt\n",
        "\n",
        "# Step 2: Prepare the data (example x and y coordinates)\n",
        "x = [1, 2, 3, 4, 5, 6]\n",
        "y = [10, 20, 25, 30, 40, 50]\n",
        "\n",
        "# Step 3: Create the scatter plot\n",
        "plt.scatter(x, y, color='blue', label='Data points')\n",
        "\n",
        "# Step 4: Add labels and title\n",
        "plt.xlabel('X-axis')\n",
        "plt.ylabel('Y-axis')\n",
        "plt.title('Scatter Plot Example')\n",
        "\n",
        "# Optional: Add a legend\n",
        "plt.legend()\n",
        "\n",
        "# Step 5: Display the plot\n",
        "plt.show()\n"
      ],
      "metadata": {
        "colab": {
          "base_uri": "https://localhost:8080/",
          "height": 472
        },
        "id": "dGlSWdeB8bLD",
        "outputId": "6d1f6f99-762b-4ae4-c5d3-2334ac7938ee"
      },
      "execution_count": 5,
      "outputs": [
        {
          "output_type": "display_data",
          "data": {
            "text/plain": [
              "<Figure size 640x480 with 1 Axes>"
            ],
            "image/png": "[encoded data removed]"
          },
          "metadata": {}
        }
      ]
    },
    {
      "cell_type": "markdown",
      "source": [
        "4. How do you calculate the correlation matrix using Seaborn and visualize it with a heatmap?"
      ],
      "metadata": {
        "id": "SbR37dTQ8h_Z"
      }
    },
    {
      "cell_type": "code",
      "source": [
        "# Step 1: Import libraries\n",
        "import seaborn as sns\n",
        "import pandas as pd\n",
        "import matplotlib.pyplot as plt\n",
        "\n",
        "# Step 2: Load the dataset (using Seaborn's built-in \"iris\" dataset as an example)\n",
        "df = sns.load_dataset('iris')\n",
        "\n",
        "# Step 3: Calculate the correlation matrix\n",
        "numerical_cols = ['sepal_length', 'sepal_width', 'petal_length', 'petal_width']\n",
        "corr_matrix = df[numerical_cols].corr()\n",
        "\n",
        "# Step 4: Create the heatmap using Seaborn\n",
        "plt.figure(figsize=(8, 6))  # Optional: Specify figure size\n",
        "sns.heatmap(corr_matrix, annot=True, cmap='coolwarm', fmt='.2f', linewidths=0.5)\n",
        "\n",
        "# Step 5: Display the heatmap\n",
        "plt.title('Correlation Matrix Heatmap')\n",
        "plt.show()\n"
      ],
      "metadata": {
        "colab": {
          "base_uri": "https://localhost:8080/",
          "height": 545
        },
        "id": "z4TyE4Bi8kui",
        "outputId": "3d1f7082-e0eb-4b1e-f44b-61949edf6de6"
      },
      "execution_count": 8,
      "outputs": [
        {
          "output_type": "display_data",
          "data": {
            "text/plain": [
              "<Figure size 800x600 with 2 Axes>"
            ],
            "image/png": "[encoded data removed]"
          },
          "metadata": {}
        }
      ]
    },
    {
      "cell_type": "markdown",
      "source": [
        "5. Generate a bar plot using Plotly."
      ],
      "metadata": {
        "id": "Mc0RDMil9Jbo"
      }
    },
    {
      "cell_type": "code",
      "source": [
        "# Step 1: Import Plotly\n",
        "import plotly.express as px\n",
        "\n",
        "# Step 2: Prepare the data (example x and y values)\n",
        "data = {\n",
        "    'Category': ['A', 'B', 'C', 'D', 'E'],\n",
        "    'Value': [10, 20, 15, 30, 25]\n",
        "}\n",
        "\n",
        "# Step 3: Create the bar plot\n",
        "fig = px.bar(data, x='Category', y='Value', title='Bar Plot Example')\n",
        "\n",
        "# Step 4: Show the plot\n",
        "fig.show()\n"
      ],
      "metadata": {
        "colab": {
          "base_uri": "https://localhost:8080/",
          "height": 542
        },
        "id": "GP4U-3f-9NQh",
        "outputId": "52609cab-0893-4e07-8b6c-046098887a05"
      },
      "execution_count": 9,
      "outputs": [
        {
          "output_type": "display_data",
          "data": {
            "text/html": [
              "<html>\n",
              "<head><meta charset=\"utf-8\" /></head>\n",
              "<body>\n",
              "    <div>            <script src=\"https://cdnjs.cloudflare.com/ajax/libs/mathjax/2.7.5/MathJax.js?config=TeX-AMS-MML_SVG\"></script><script type=\"text/javascript\">if (window.MathJax && window.MathJax.Hub && window.MathJax.Hub.Config) {window.MathJax.Hub.Config({SVG: {font: \"STIX-Web\"}});}</script>                <script type=\"text/javascript\">window.PlotlyConfig = {MathJaxConfig: 'local'};</script>\n",
              "        <script charset=\"utf-8\" src=\"https://cdn.plot.ly/plotly-2.35.2.min.js\"></script>                <div id=\"6b913874-7c95-4c58-842d-2109dcf4d8a5\" class=\"plotly-graph-div\" style=\"height:525px; width:100%;\"></div>            <script type=\"text/javascript\">                                    window.PLOTLYENV=window.PLOTLYENV || {};                                    if (document.getElementById(\"6b913874-7c95-4c58-842d-2109dcf4d8a5\")) {                    Plotly.newPlot(                        \"6b913874-7c95-4c58-842d-2109dcf4d8a5\",                        [{\"alignmentgroup\":\"True\",\"hovertemplate\":\"Category=%{x}\\u003cbr\\u003eValue=%{y}\\u003cextra\\u003e\\u003c\\u002fextra\\u003e\",\"legendgroup\":\"\",\"marker\":{\"color\":\"#636efa\",\"pattern\":{\"shape\":\"\"}},\"name\":\"\",\"offsetgroup\":\"\",\"orientation\":\"v\",\"showlegend\":false,\"textposition\":\"auto\",\"x\":[\"A\",\"B\",\"C\",\"D\",\"E\"],\"xaxis\":\"x\",\"y\":[10,20,15,30,25],\"yaxis\":\"y\",\"type\":\"bar\"}],                        {\"template\":{\"data\":{\"histogram2dcontour\":[{\"type\":\"histogram2dcontour\",\"colorbar\":{\"outlinewidth\":0,\"ticks\":\"\"},\"colorscale\":[[0.0,\"#0d0887\"],[0.1111111111111111,\"#46039f\"],[0.2222222222222222,\"#7201a8\"],[0.3333333333333333,\"#9c179e\"],[0.4444444444444444,\"#bd3786\"],[0.5555555555555556,\"#d8576b\"],[0.6666666666666666,\"#ed7953\"],[0.7777777777777778,\"#fb9f3a\"],[0.8888888888888888,\"#fdca26\"],[1.0,\"#f0f921\"]]}],\"choropleth\":[{\"type\":\"choropleth\",\"colorbar\":{\"outlinewidth\":0,\"ticks\":\"\"}}],\"histogram2d\":[{\"type\":\"histogram2d\",\"colorbar\":{\"outlinewidth\":0,\"ticks\":\"\"},\"colorscale\":[[0.0,\"#0d0887\"],[0.1111111111111111,\"#46039f\"],[0.2222222222222222,\"#7201a8\"],[0.3333333333333333,\"#9c179e\"],[0.4444444444444444,\"#bd3786\"],[0.5555555555555556,\"#d8576b\"],[0.6666666666666666,\"#ed7953\"],[0.7777777777777778,\"#fb9f3a\"],[0.8888888888888888,\"#fdca26\"],[1.0,\"#f0f921\"]]}],\"heatmap\":[{\"type\":\"heatmap\",\"colorbar\":{\"outlinewidth\":0,\"ticks\":\"\"},\"colorscale\":[[0.0,\"#0d0887\"],[0.1111111111111111,\"#46039f\"],[0.2222222222222222,\"#7201a8\"],[0.3333333333333333,\"#9c179e\"],[0.4444444444444444,\"#bd3786\"],[0.5555555555555556,\"#d8576b\"],[0.6666666666666666,\"#ed7953\"],[0.7777777777777778,\"#fb9f3a\"],[0.8888888888888888,\"#fdca26\"],[1.0,\"#f0f921\"]]}],\"heatmapgl\":[{\"type\":\"heatmapgl\",\"colorbar\":{\"outlinewidth\":0,\"ticks\":\"\"},\"colorscale\":[[0.0,\"#0d0887\"],[0.1111111111111111,\"#46039f\"],[0.2222222222222222,\"#7201a8\"],[0.3333333333333333,\"#9c179e\"],[0.4444444444444444,\"#bd3786\"],[0.5555555555555556,\"#d8576b\"],[0.6666666666666666,\"#ed7953\"],[0.7777777777777778,\"#fb9f3a\"],[0.8888888888888888,\"#fdca26\"],[1.0,\"#f0f921\"]]}],\"contourcarpet\":[{\"type\":\"contourcarpet\",\"colorbar\":{\"outlinewidth\":0,\"ticks\":\"\"}}],\"contour\":[{\"type\":\"contour\",\"colorbar\":{\"outlinewidth\":0,\"ticks\":\"\"},\"colorscale\":[[0.0,\"#0d0887\"],[0.1111111111111111,\"#46039f\"],[0.2222222222222222,\"#7201a8\"],[0.3333333333333333,\"#9c179e\"],[0.4444444444444444,\"#bd3786\"],[0.5555555555555556,\"#d8576b\"],[0.6666666666666666,\"#ed7953\"],[0.7777777777777778,\"#fb9f3a\"],[0.8888888888888888,\"#fdca26\"],[1.0,\"#f0f921\"]]}],\"surface\":[{\"type\":\"surface\",\"colorbar\":{\"outlinewidth\":0,\"ticks\":\"\"},\"colorscale\":[[0.0,\"#0d0887\"],[0.1111111111111111,\"#46039f\"],[0.2222222222222222,\"#7201a8\"],[0.3333333333333333,\"#9c179e\"],[0.4444444444444444,\"#bd3786\"],[0.5555555555555556,\"#d8576b\"],[0.6666666666666666,\"#ed7953\"],[0.7777777777777778,\"#fb9f3a\"],[0.8888888888888888,\"#fdca26\"],[1.0,\"#f0f921\"]]}],\"mesh3d\":[{\"type\":\"mesh3d\",\"colorbar\":{\"outlinewidth\":0,\"ticks\":\"\"}}],\"scatter\":[{\"fillpattern\":{\"fillmode\":\"overlay\",\"size\":10,\"solidity\":0.2},\"type\":\"scatter\"}],\"parcoords\":[{\"type\":\"parcoords\",\"line\":{\"colorbar\":{\"outlinewidth\":0,\"ticks\":\"\"}}}],\"scatterpolargl\":[{\"type\":\"scatterpolargl\",\"marker\":{\"colorbar\":{\"outlinewidth\":0,\"ticks\":\"\"}}}],\"bar\":[{\"error_x\":{\"color\":\"#2a3f5f\"},\"error_y\":{\"color\":\"#2a3f5f\"},\"marker\":{\"line\":{\"color\":\"#E5ECF6\",\"width\":0.5},\"pattern\":{\"fillmode\":\"overlay\",\"size\":10,\"solidity\":0.2}},\"type\":\"bar\"}],\"scattergeo\":[{\"type\":\"scattergeo\",\"marker\":{\"colorbar\":{\"outlinewidth\":0,\"ticks\":\"\"}}}],\"scatterpolar\":[{\"type\":\"scatterpolar\",\"marker\":{\"colorbar\":{\"outlinewidth\":0,\"ticks\":\"\"}}}],\"histogram\":[{\"marker\":{\"pattern\":{\"fillmode\":\"overlay\",\"size\":10,\"solidity\":0.2}},\"type\":\"histogram\"}],\"scattergl\":[{\"type\":\"scattergl\",\"marker\":{\"colorbar\":{\"outlinewidth\":0,\"ticks\":\"\"}}}],\"scatter3d\":[{\"type\":\"scatter3d\",\"line\":{\"colorbar\":{\"outlinewidth\":0,\"ticks\":\"\"}},\"marker\":{\"colorbar\":{\"outlinewidth\":0,\"ticks\":\"\"}}}],\"scattermapbox\":[{\"type\":\"scattermapbox\",\"marker\":{\"colorbar\":{\"outlinewidth\":0,\"ticks\":\"\"}}}],\"scatterternary\":[{\"type\":\"scatterternary\",\"marker\":{\"colorbar\":{\"outlinewidth\":0,\"ticks\":\"\"}}}],\"scattercarpet\":[{\"type\":\"scattercarpet\",\"marker\":{\"colorbar\":{\"outlinewidth\":0,\"ticks\":\"\"}}}],\"carpet\":[{\"aaxis\":{\"endlinecolor\":\"#2a3f5f\",\"gridcolor\":\"white\",\"linecolor\":\"white\",\"minorgridcolor\":\"white\",\"startlinecolor\":\"#2a3f5f\"},\"baxis\":{\"endlinecolor\":\"#2a3f5f\",\"gridcolor\":\"white\",\"linecolor\":\"white\",\"minorgridcolor\":\"white\",\"startlinecolor\":\"#2a3f5f\"},\"type\":\"carpet\"}],\"table\":[{\"cells\":{\"fill\":{\"color\":\"#EBF0F8\"},\"line\":{\"color\":\"white\"}},\"header\":{\"fill\":{\"color\":\"#C8D4E3\"},\"line\":{\"color\":\"white\"}},\"type\":\"table\"}],\"barpolar\":[{\"marker\":{\"line\":{\"color\":\"#E5ECF6\",\"width\":0.5},\"pattern\":{\"fillmode\":\"overlay\",\"size\":10,\"solidity\":0.2}},\"type\":\"barpolar\"}],\"pie\":[{\"automargin\":true,\"type\":\"pie\"}]},\"layout\":{\"autotypenumbers\":\"strict\",\"colorway\":[\"#636efa\",\"#EF553B\",\"#00cc96\",\"#ab63fa\",\"#FFA15A\",\"#19d3f3\",\"#FF6692\",\"#B6E880\",\"#FF97FF\",\"#FECB52\"],\"font\":{\"color\":\"#2a3f5f\"},\"hovermode\":\"closest\",\"hoverlabel\":{\"align\":\"left\"},\"paper_bgcolor\":\"white\",\"plot_bgcolor\":\"#E5ECF6\",\"polar\":{\"bgcolor\":\"#E5ECF6\",\"angularaxis\":{\"gridcolor\":\"white\",\"linecolor\":\"white\",\"ticks\":\"\"},\"radialaxis\":{\"gridcolor\":\"white\",\"linecolor\":\"white\",\"ticks\":\"\"}},\"ternary\":{\"bgcolor\":\"#E5ECF6\",\"aaxis\":{\"gridcolor\":\"white\",\"linecolor\":\"white\",\"ticks\":\"\"},\"baxis\":{\"gridcolor\":\"white\",\"linecolor\":\"white\",\"ticks\":\"\"},\"caxis\":{\"gridcolor\":\"white\",\"linecolor\":\"white\",\"ticks\":\"\"}},\"coloraxis\":{\"colorbar\":{\"outlinewidth\":0,\"ticks\":\"\"}},\"colorscale\":{\"sequential\":[[0.0,\"#0d0887\"],[0.1111111111111111,\"#46039f\"],[0.2222222222222222,\"#7201a8\"],[0.3333333333333333,\"#9c179e\"],[0.4444444444444444,\"#bd3786\"],[0.5555555555555556,\"#d8576b\"],[0.6666666666666666,\"#ed7953\"],[0.7777777777777778,\"#fb9f3a\"],[0.8888888888888888,\"#fdca26\"],[1.0,\"#f0f921\"]],\"sequentialminus\":[[0.0,\"#0d0887\"],[0.1111111111111111,\"#46039f\"],[0.2222222222222222,\"#7201a8\"],[0.3333333333333333,\"#9c179e\"],[0.4444444444444444,\"#bd3786\"],[0.5555555555555556,\"#d8576b\"],[0.6666666666666666,\"#ed7953\"],[0.7777777777777778,\"#fb9f3a\"],[0.8888888888888888,\"#fdca26\"],[1.0,\"#f0f921\"]],\"diverging\":[[0,\"#8e0152\"],[0.1,\"#c51b7d\"],[0.2,\"#de77ae\"],[0.3,\"#f1b6da\"],[0.4,\"#fde0ef\"],[0.5,\"#f7f7f7\"],[0.6,\"#e6f5d0\"],[0.7,\"#b8e186\"],[0.8,\"#7fbc41\"],[0.9,\"#4d9221\"],[1,\"#276419\"]]},\"xaxis\":{\"gridcolor\":\"white\",\"linecolor\":\"white\",\"ticks\":\"\",\"title\":{\"standoff\":15},\"zerolinecolor\":\"white\",\"automargin\":true,\"zerolinewidth\":2},\"yaxis\":{\"gridcolor\":\"white\",\"linecolor\":\"white\",\"ticks\":\"\",\"title\":{\"standoff\":15},\"zerolinecolor\":\"white\",\"automargin\":true,\"zerolinewidth\":2},\"scene\":{\"xaxis\":{\"backgroundcolor\":\"#E5ECF6\",\"gridcolor\":\"white\",\"linecolor\":\"white\",\"showbackground\":true,\"ticks\":\"\",\"zerolinecolor\":\"white\",\"gridwidth\":2},\"yaxis\":{\"backgroundcolor\":\"#E5ECF6\",\"gridcolor\":\"white\",\"linecolor\":\"white\",\"showbackground\":true,\"ticks\":\"\",\"zerolinecolor\":\"white\",\"gridwidth\":2},\"zaxis\":{\"backgroundcolor\":\"#E5ECF6\",\"gridcolor\":\"white\",\"linecolor\":\"white\",\"showbackground\":true,\"ticks\":\"\",\"zerolinecolor\":\"white\",\"gridwidth\":2}},\"shapedefaults\":{\"line\":{\"color\":\"#2a3f5f\"}},\"annotationdefaults\":{\"arrowcolor\":\"#2a3f5f\",\"arrowhead\":0,\"arrowwidth\":1},\"geo\":{\"bgcolor\":\"white\",\"landcolor\":\"#E5ECF6\",\"subunitcolor\":\"white\",\"showland\":true,\"showlakes\":true,\"lakecolor\":\"white\"},\"title\":{\"x\":0.05},\"mapbox\":{\"style\":\"light\"}}},\"xaxis\":{\"anchor\":\"y\",\"domain\":[0.0,1.0],\"title\":{\"text\":\"Category\"}},\"yaxis\":{\"anchor\":\"x\",\"domain\":[0.0,1.0],\"title\":{\"text\":\"Value\"}},\"legend\":{\"tracegroupgap\":0},\"title\":{\"text\":\"Bar Plot Example\"},\"barmode\":\"relative\"},                        {\"responsive\": true}                    ).then(function(){\n",
              "                            \n",
              "var gd = document.getElementById('6b913874-7c95-4c58-842d-2109dcf4d8a5');\n",
              "var x = new MutationObserver(function (mutations, observer) {{\n",
              "        var display = window.getComputedStyle(gd).display;\n",
              "        if (!display || display === 'none') {{\n",
              "            console.log([gd, 'removed!']);\n",
              "            Plotly.purge(gd);\n",
              "            observer.disconnect();\n",
              "        }}\n",
              "}});\n",
              "\n",
              "// Listen for the removal of the full notebook cells\n",
              "var notebookContainer = gd.closest('#notebook-container');\n",
              "if (notebookContainer) {{\n",
              "    x.observe(notebookContainer, {childList: true});\n",
              "}}\n",
              "\n",
              "// Listen for the clearing of the current output cell\n",
              "var outputEl = gd.closest('.output');\n",
              "if (outputEl) {{\n",
              "    x.observe(outputEl, {childList: true});\n",
              "}}\n",
              "\n",
              "                        })                };                            </script>        </div>\n",
              "</body>\n",
              "</html>"
            ]
          },
          "metadata": {}
        }
      ]
    },
    {
      "cell_type": "markdown",
      "source": [
        "6. Create a DataFrame and add a new column based on an existing column."
      ],
      "metadata": {
        "id": "9NQb1wFN9Wat"
      }
    },
    {
      "cell_type": "code",
      "source": [
        "# Step 1: Import pandas\n",
        "import pandas as pd\n",
        "\n",
        "# Step 2: Create a DataFrame\n",
        "data = {\n",
        "    'Name': ['Alice', 'Bob', 'Charlie', 'David', 'Eva'],\n",
        "    'Age': [23, 45, 35, 50, 29],\n",
        "    'Salary': [50000, 60000, 55000, 70000, 65000]\n",
        "}\n",
        "\n",
        "df = pd.DataFrame(data)\n",
        "\n",
        "# Step 3: Add a new column based on an existing column\n",
        "# Example: Add a new column 'Salary_after_tax' which is 80% of the 'Salary'\n",
        "df['Salary_after_tax'] = df['Salary'] * 0.80\n",
        "\n",
        "# Display the updated DataFrame\n",
        "print(df)\n"
      ],
      "metadata": {
        "colab": {
          "base_uri": "https://localhost:8080/"
        },
        "id": "wUfTT6FA9Zqf",
        "outputId": "d34e62ae-993b-499f-da92-fdf97d6130c4"
      },
      "execution_count": 10,
      "outputs": [
        {
          "output_type": "stream",
          "name": "stdout",
          "text": [
            "      Name  Age  Salary  Salary_after_tax\n",
            "0    Alice   23   50000           40000.0\n",
            "1      Bob   45   60000           48000.0\n",
            "2  Charlie   35   55000           44000.0\n",
            "3    David   50   70000           56000.0\n",
            "4      Eva   29   65000           52000.0\n"
          ]
        }
      ]
    },
    {
      "cell_type": "markdown",
      "source": [
        "7. Write a program to perform element-wise multiplication of two NumPy arrays."
      ],
      "metadata": {
        "id": "f9izxQqc9f_V"
      }
    },
    {
      "cell_type": "code",
      "source": [
        "# Step 1: Import NumPy\n",
        "import numpy as np\n",
        "\n",
        "# Step 2: Create two NumPy arrays\n",
        "array1 = np.array([1, 2, 3, 4, 5])\n",
        "array2 = np.array([5, 4, 3, 2, 1])\n",
        "\n",
        "# Step 3: Perform element-wise multiplication\n",
        "result = array1 * array2\n",
        "\n",
        "# Step 4: Display the result\n",
        "print(\"Element-wise multiplication result:\", result)\n"
      ],
      "metadata": {
        "colab": {
          "base_uri": "https://localhost:8080/"
        },
        "id": "BvFiO4vi9jkL",
        "outputId": "ab62c065-6049-49e2-bec1-f682f76f56ae"
      },
      "execution_count": 11,
      "outputs": [
        {
          "output_type": "stream",
          "name": "stdout",
          "text": [
            "Element-wise multiplication result: [5 8 9 8 5]\n"
          ]
        }
      ]
    },
    {
      "cell_type": "markdown",
      "source": [
        "8. Create a line plot with multiple lines using Matplotlib."
      ],
      "metadata": {
        "id": "WNZw9y6B9pyQ"
      }
    },
    {
      "cell_type": "code",
      "source": [
        "# Step 1: Import Matplotlib\n",
        "import matplotlib.pyplot as plt\n",
        "\n",
        "# Step 2: Prepare data (multiple lines)\n",
        "x = [0, 1, 2, 3, 4, 5]\n",
        "y1 = [0, 1, 4, 9, 16, 25]  # First line (y = x^2)\n",
        "y2 = [0, 1, 2, 3, 4, 5]    # Second line (y = x)\n",
        "y3 = [0, 1, 3, 6, 10, 15]  # Third line (y = sum of natural numbers)\n",
        "\n",
        "# Step 3: Create the line plot with multiple lines\n",
        "plt.plot(x, y1, label='y = x^2', marker='o')  # First line\n",
        "plt.plot(x, y2, label='y = x', marker='x')    # Second line\n",
        "plt.plot(x, y3, label='y = Sum(x)', marker='s') # Third line\n",
        "\n",
        "# Step 4: Add labels, title, and legend\n",
        "plt.xlabel('X values')\n",
        "plt.ylabel('Y values')\n",
        "plt.title('Multiple Line Plot Example')\n",
        "plt.legend()  # Show legend to label the lines\n",
        "\n",
        "# Step 5: Display the plot\n",
        "plt.show()\n"
      ],
      "metadata": {
        "colab": {
          "base_uri": "https://localhost:8080/",
          "height": 472
        },
        "id": "uHisTAUT9tSi",
        "outputId": "965de8fe-f483-4063-a5a9-1e12c076302d"
      },
      "execution_count": 12,
      "outputs": [
        {
          "output_type": "display_data",
          "data": {
            "text/plain": [
              "<Figure size 640x480 with 1 Axes>"
            ],
            "image/png": "[encoded data removed]"
          },
          "metadata": {}
        }
      ]
    },
    {
      "cell_type": "markdown",
      "source": [
        "9. Generate a Pandas DataFrame and filter rows where a column value is greater than a threshold."
      ],
      "metadata": {
        "id": "utGv5gIR90Y-"
      }
    },
    {
      "cell_type": "code",
      "source": [
        "# Step 1: Import pandas\n",
        "import pandas as pd\n",
        "\n",
        "# Step 2: Create a sample DataFrame\n",
        "data = {\n",
        "    'Name': ['Alice', 'Bob', 'Charlie', 'David', 'Eva'],\n",
        "    'Age': [23, 45, 35, 50, 29],\n",
        "    'Salary': [50000, 60000, 55000, 70000, 65000]\n",
        "}\n",
        "\n",
        "df = pd.DataFrame(data)\n",
        "\n",
        "# Step 3: Set the threshold (e.g., Age > 30)\n",
        "threshold = 30\n",
        "\n",
        "# Step 4: Filter rows where 'Age' is greater than the threshold\n",
        "filtered_df = df[df['Age'] > threshold]\n",
        "\n",
        "# Step 5: Display the filtered DataFrame\n",
        "print(\"Filtered DataFrame (Age > 30):\")\n",
        "print(filtered_df)\n"
      ],
      "metadata": {
        "colab": {
          "base_uri": "https://localhost:8080/"
        },
        "id": "DshHHtoV94cj",
        "outputId": "36a7c4d4-6e70-43e1-8a9f-dfdec66de3d7"
      },
      "execution_count": 13,
      "outputs": [
        {
          "output_type": "stream",
          "name": "stdout",
          "text": [
            "Filtered DataFrame (Age > 30):\n",
            "      Name  Age  Salary\n",
            "1      Bob   45   60000\n",
            "2  Charlie   35   55000\n",
            "3    David   50   70000\n"
          ]
        }
      ]
    },
    {
      "cell_type": "markdown",
      "source": [
        "10. Create a histogram using Seaborn to visualize a distribution."
      ],
      "metadata": {
        "id": "ei2B9gaC-A7W"
      }
    },
    {
      "cell_type": "code",
      "source": [
        "# Step 1: Import libraries\n",
        "import seaborn as sns\n",
        "import matplotlib.pyplot as plt\n",
        "\n",
        "# Step 2: Load a sample dataset (e.g., 'penguins' or use your own)\n",
        "df = sns.load_dataset('penguins')\n",
        "\n",
        "# Step 3: Create a histogram of a numerical column (e.g., flipper_length_mm)\n",
        "sns.histplot(data=df, x='flipper_length_mm', bins=20, kde=True, color='skyblue')\n",
        "\n",
        "# Step 4: Add titles and labels\n",
        "plt.title('Distribution of Flipper Lengths')\n",
        "plt.xlabel('Flipper Length (mm)')\n",
        "plt.ylabel('Frequency')\n",
        "\n",
        "# Step 5: Show the plot\n",
        "plt.show()\n"
      ],
      "metadata": {
        "colab": {
          "base_uri": "https://localhost:8080/",
          "height": 472
        },
        "id": "C0Rhga89-EoV",
        "outputId": "5c0928f4-4f5d-43f9-b3e4-f1c5dfb1afab"
      },
      "execution_count": 14,
      "outputs": [
        {
          "output_type": "display_data",
          "data": {
            "text/plain": [
              "<Figure size 640x480 with 1 Axes>"
            ],
            "image/png": "[encoded data removed]"
          },
          "metadata": {}
        }
      ]
    },
    {
      "cell_type": "markdown",
      "source": [
        "11. Perform matrix multiplication using NumPy."
      ],
      "metadata": {
        "id": "_9ZZg1Dn-MEO"
      }
    },
    {
      "cell_type": "code",
      "source": [
        "# Step 1: Import NumPy\n",
        "import numpy as np\n",
        "\n",
        "# Step 2: Define two matrices (2D arrays)\n",
        "A = np.array([[1, 2],\n",
        "              [3, 4]])\n",
        "\n",
        "B = np.array([[5, 6],\n",
        "              [7, 8]])\n",
        "\n",
        "# Step 3: Perform matrix multiplication\n",
        "result = np.dot(A, B)  # or A @ B\n",
        "\n",
        "# Step 4: Display the result\n",
        "print(\"Matrix A:\\n\", A)\n",
        "print(\"Matrix B:\\n\", B)\n",
        "print(\"Matrix Multiplication Result (A * B):\\n\", result)\n"
      ],
      "metadata": {
        "colab": {
          "base_uri": "https://localhost:8080/"
        },
        "id": "MdEei4Mh-Oel",
        "outputId": "7b15c239-060e-4163-8edd-9b56cb5c8306"
      },
      "execution_count": 15,
      "outputs": [
        {
          "output_type": "stream",
          "name": "stdout",
          "text": [
            "Matrix A:\n",
            " [[1 2]\n",
            " [3 4]]\n",
            "Matrix B:\n",
            " [[5 6]\n",
            " [7 8]]\n",
            "Matrix Multiplication Result (A * B):\n",
            " [[19 22]\n",
            " [43 50]]\n"
          ]
        }
      ]
    },
    {
      "cell_type": "markdown",
      "source": [
        "12. Use Pandas to load a CSV file and display its first 5 rows.\n"
      ],
      "metadata": {
        "id": "dwcmGFDw-T-4"
      }
    },
    {
      "cell_type": "code",
      "source": [
        "import pandas as pd\n",
        "pd.set_option('display.max_rows', 50)\n",
        "pd.set_option('display.max_columns', 50)\n",
        "diamonds = pd.read_csv('https://raw.githubusercontent.com/mwaskom/seaborn-data/master/diamonds.csv')\n",
        "print(\"First 5 rows:\")\n",
        "print(diamonds.head())\n"
      ],
      "metadata": {
        "colab": {
          "base_uri": "https://localhost:8080/"
        },
        "id": "VLdJoJvH-XHZ",
        "outputId": "43a24c2f-bb34-441f-ad6f-ec0d521e6297"
      },
      "execution_count": 34,
      "outputs": [
        {
          "output_type": "stream",
          "name": "stdout",
          "text": [
            "First 5 rows:\n",
            "   carat      cut color clarity  depth  table  price     x     y     z\n",
            "0   0.23    Ideal     E     SI2   61.5   55.0    326  3.95  3.98  2.43\n",
            "1   0.21  Premium     E     SI1   59.8   61.0    326  3.89  3.84  2.31\n",
            "2   0.23     Good     E     VS1   56.9   65.0    327  4.05  4.07  2.31\n",
            "3   0.29  Premium     I     VS2   62.4   58.0    334  4.20  4.23  2.63\n",
            "4   0.31     Good     J     SI2   63.3   58.0    335  4.34  4.35  2.75\n"
          ]
        }
      ]
    },
    {
      "cell_type": "markdown",
      "source": [
        "13. Create a 3D scatter plot using Plotly."
      ],
      "metadata": {
        "id": "Mjz0OkknBBvl"
      }
    },
    {
      "cell_type": "code",
      "source": [
        "# Step 1: Import Plotly Express\n",
        "import plotly.express as px\n",
        "import pandas as pd\n",
        "\n",
        "# Step 2: Create sample data for 3D plotting\n",
        "data = {\n",
        "    'X': [1, 2, 3, 4, 5],\n",
        "    'Y': [10, 20, 15, 25, 30],\n",
        "    'Z': [5, 15, 10, 20, 25],\n",
        "    'Label': ['A', 'B', 'C', 'D', 'E']  # Optional labels\n",
        "}\n",
        "\n",
        "df = pd.DataFrame(data)\n",
        "\n",
        "# Step 3: Create the 3D scatter plot\n",
        "fig = px.scatter_3d(df, x='X', y='Y', z='Z', color='Label', size_max=10,\n",
        "                    title='3D Scatter Plot Example')\n",
        "\n",
        "# Step 4: Show the plot\n",
        "fig.show()\n"
      ],
      "metadata": {
        "colab": {
          "base_uri": "https://localhost:8080/",
          "height": 542
        },
        "id": "7WqwHi6ZBESc",
        "outputId": "66af4aec-a9fc-4ac5-af41-f4866af80cf4"
      },
      "execution_count": 24,
      "outputs": [
        {
          "output_type": "display_data",
          "data": {
            "text/html": [
              "<html>\n",
              "<head><meta charset=\"utf-8\" /></head>\n",
              "<body>\n",
              "    <div>            <script src=\"https://cdnjs.cloudflare.com/ajax/libs/mathjax/2.7.5/MathJax.js?config=TeX-AMS-MML_SVG\"></script><script type=\"text/javascript\">if (window.MathJax && window.MathJax.Hub && window.MathJax.Hub.Config) {window.MathJax.Hub.Config({SVG: {font: \"STIX-Web\"}});}</script>                <script type=\"text/javascript\">window.PlotlyConfig = {MathJaxConfig: 'local'};</script>\n",
              "        <script charset=\"utf-8\" src=\"https://cdn.plot.ly/plotly-2.35.2.min.js\"></script>                <div id=\"bcb84ebc-0e36-4537-ba26-5a752fcb6eae\" class=\"plotly-graph-div\" style=\"height:525px; width:100%;\"></div>            <script type=\"text/javascript\">                                    window.PLOTLYENV=window.PLOTLYENV || {};                                    if (document.getElementById(\"bcb84ebc-0e36-4537-ba26-5a752fcb6eae\")) {                    Plotly.newPlot(                        \"bcb84ebc-0e36-4537-ba26-5a752fcb6eae\",                        [{\"hovertemplate\":\"Label=A\\u003cbr\\u003eX=%{x}\\u003cbr\\u003eY=%{y}\\u003cbr\\u003eZ=%{z}\\u003cextra\\u003e\\u003c\\u002fextra\\u003e\",\"legendgroup\":\"A\",\"marker\":{\"color\":\"#636efa\",\"symbol\":\"circle\"},\"mode\":\"markers\",\"name\":\"A\",\"scene\":\"scene\",\"showlegend\":true,\"x\":[1],\"y\":[10],\"z\":[5],\"type\":\"scatter3d\"},{\"hovertemplate\":\"Label=B\\u003cbr\\u003eX=%{x}\\u003cbr\\u003eY=%{y}\\u003cbr\\u003eZ=%{z}\\u003cextra\\u003e\\u003c\\u002fextra\\u003e\",\"legendgroup\":\"B\",\"marker\":{\"color\":\"#EF553B\",\"symbol\":\"circle\"},\"mode\":\"markers\",\"name\":\"B\",\"scene\":\"scene\",\"showlegend\":true,\"x\":[2],\"y\":[20],\"z\":[15],\"type\":\"scatter3d\"},{\"hovertemplate\":\"Label=C\\u003cbr\\u003eX=%{x}\\u003cbr\\u003eY=%{y}\\u003cbr\\u003eZ=%{z}\\u003cextra\\u003e\\u003c\\u002fextra\\u003e\",\"legendgroup\":\"C\",\"marker\":{\"color\":\"#00cc96\",\"symbol\":\"circle\"},\"mode\":\"markers\",\"name\":\"C\",\"scene\":\"scene\",\"showlegend\":true,\"x\":[3],\"y\":[15],\"z\":[10],\"type\":\"scatter3d\"},{\"hovertemplate\":\"Label=D\\u003cbr\\u003eX=%{x}\\u003cbr\\u003eY=%{y}\\u003cbr\\u003eZ=%{z}\\u003cextra\\u003e\\u003c\\u002fextra\\u003e\",\"legendgroup\":\"D\",\"marker\":{\"color\":\"#ab63fa\",\"symbol\":\"circle\"},\"mode\":\"markers\",\"name\":\"D\",\"scene\":\"scene\",\"showlegend\":true,\"x\":[4],\"y\":[25],\"z\":[20],\"type\":\"scatter3d\"},{\"hovertemplate\":\"Label=E\\u003cbr\\u003eX=%{x}\\u003cbr\\u003eY=%{y}\\u003cbr\\u003eZ=%{z}\\u003cextra\\u003e\\u003c\\u002fextra\\u003e\",\"legendgroup\":\"E\",\"marker\":{\"color\":\"#FFA15A\",\"symbol\":\"circle\"},\"mode\":\"markers\",\"name\":\"E\",\"scene\":\"scene\",\"showlegend\":true,\"x\":[5],\"y\":[30],\"z\":[25],\"type\":\"scatter3d\"}],                        {\"template\":{\"data\":{\"histogram2dcontour\":[{\"type\":\"histogram2dcontour\",\"colorbar\":{\"outlinewidth\":0,\"ticks\":\"\"},\"colorscale\":[[0.0,\"#0d0887\"],[0.1111111111111111,\"#46039f\"],[0.2222222222222222,\"#7201a8\"],[0.3333333333333333,\"#9c179e\"],[0.4444444444444444,\"#bd3786\"],[0.5555555555555556,\"#d8576b\"],[0.6666666666666666,\"#ed7953\"],[0.7777777777777778,\"#fb9f3a\"],[0.8888888888888888,\"#fdca26\"],[1.0,\"#f0f921\"]]}],\"choropleth\":[{\"type\":\"choropleth\",\"colorbar\":{\"outlinewidth\":0,\"ticks\":\"\"}}],\"histogram2d\":[{\"type\":\"histogram2d\",\"colorbar\":{\"outlinewidth\":0,\"ticks\":\"\"},\"colorscale\":[[0.0,\"#0d0887\"],[0.1111111111111111,\"#46039f\"],[0.2222222222222222,\"#7201a8\"],[0.3333333333333333,\"#9c179e\"],[0.4444444444444444,\"#bd3786\"],[0.5555555555555556,\"#d8576b\"],[0.6666666666666666,\"#ed7953\"],[0.7777777777777778,\"#fb9f3a\"],[0.8888888888888888,\"#fdca26\"],[1.0,\"#f0f921\"]]}],\"heatmap\":[{\"type\":\"heatmap\",\"colorbar\":{\"outlinewidth\":0,\"ticks\":\"\"},\"colorscale\":[[0.0,\"#0d0887\"],[0.1111111111111111,\"#46039f\"],[0.2222222222222222,\"#7201a8\"],[0.3333333333333333,\"#9c179e\"],[0.4444444444444444,\"#bd3786\"],[0.5555555555555556,\"#d8576b\"],[0.6666666666666666,\"#ed7953\"],[0.7777777777777778,\"#fb9f3a\"],[0.8888888888888888,\"#fdca26\"],[1.0,\"#f0f921\"]]}],\"heatmapgl\":[{\"type\":\"heatmapgl\",\"colorbar\":{\"outlinewidth\":0,\"ticks\":\"\"},\"colorscale\":[[0.0,\"#0d0887\"],[0.1111111111111111,\"#46039f\"],[0.2222222222222222,\"#7201a8\"],[0.3333333333333333,\"#9c179e\"],[0.4444444444444444,\"#bd3786\"],[0.5555555555555556,\"#d8576b\"],[0.6666666666666666,\"#ed7953\"],[0.7777777777777778,\"#fb9f3a\"],[0.8888888888888888,\"#fdca26\"],[1.0,\"#f0f921\"]]}],\"contourcarpet\":[{\"type\":\"contourcarpet\",\"colorbar\":{\"outlinewidth\":0,\"ticks\":\"\"}}],\"contour\":[{\"type\":\"contour\",\"colorbar\":{\"outlinewidth\":0,\"ticks\":\"\"},\"colorscale\":[[0.0,\"#0d0887\"],[0.1111111111111111,\"#46039f\"],[0.2222222222222222,\"#7201a8\"],[0.3333333333333333,\"#9c179e\"],[0.4444444444444444,\"#bd3786\"],[0.5555555555555556,\"#d8576b\"],[0.6666666666666666,\"#ed7953\"],[0.7777777777777778,\"#fb9f3a\"],[0.8888888888888888,\"#fdca26\"],[1.0,\"#f0f921\"]]}],\"surface\":[{\"type\":\"surface\",\"colorbar\":{\"outlinewidth\":0,\"ticks\":\"\"},\"colorscale\":[[0.0,\"#0d0887\"],[0.1111111111111111,\"#46039f\"],[0.2222222222222222,\"#7201a8\"],[0.3333333333333333,\"#9c179e\"],[0.4444444444444444,\"#bd3786\"],[0.5555555555555556,\"#d8576b\"],[0.6666666666666666,\"#ed7953\"],[0.7777777777777778,\"#fb9f3a\"],[0.8888888888888888,\"#fdca26\"],[1.0,\"#f0f921\"]]}],\"mesh3d\":[{\"type\":\"mesh3d\",\"colorbar\":{\"outlinewidth\":0,\"ticks\":\"\"}}],\"scatter\":[{\"fillpattern\":{\"fillmode\":\"overlay\",\"size\":10,\"solidity\":0.2},\"type\":\"scatter\"}],\"parcoords\":[{\"type\":\"parcoords\",\"line\":{\"colorbar\":{\"outlinewidth\":0,\"ticks\":\"\"}}}],\"scatterpolargl\":[{\"type\":\"scatterpolargl\",\"marker\":{\"colorbar\":{\"outlinewidth\":0,\"ticks\":\"\"}}}],\"bar\":[{\"error_x\":{\"color\":\"#2a3f5f\"},\"error_y\":{\"color\":\"#2a3f5f\"},\"marker\":{\"line\":{\"color\":\"#E5ECF6\",\"width\":0.5},\"pattern\":{\"fillmode\":\"overlay\",\"size\":10,\"solidity\":0.2}},\"type\":\"bar\"}],\"scattergeo\":[{\"type\":\"scattergeo\",\"marker\":{\"colorbar\":{\"outlinewidth\":0,\"ticks\":\"\"}}}],\"scatterpolar\":[{\"type\":\"scatterpolar\",\"marker\":{\"colorbar\":{\"outlinewidth\":0,\"ticks\":\"\"}}}],\"histogram\":[{\"marker\":{\"pattern\":{\"fillmode\":\"overlay\",\"size\":10,\"solidity\":0.2}},\"type\":\"histogram\"}],\"scattergl\":[{\"type\":\"scattergl\",\"marker\":{\"colorbar\":{\"outlinewidth\":0,\"ticks\":\"\"}}}],\"scatter3d\":[{\"type\":\"scatter3d\",\"line\":{\"colorbar\":{\"outlinewidth\":0,\"ticks\":\"\"}},\"marker\":{\"colorbar\":{\"outlinewidth\":0,\"ticks\":\"\"}}}],\"scattermapbox\":[{\"type\":\"scattermapbox\",\"marker\":{\"colorbar\":{\"outlinewidth\":0,\"ticks\":\"\"}}}],\"scatterternary\":[{\"type\":\"scatterternary\",\"marker\":{\"colorbar\":{\"outlinewidth\":0,\"ticks\":\"\"}}}],\"scattercarpet\":[{\"type\":\"scattercarpet\",\"marker\":{\"colorbar\":{\"outlinewidth\":0,\"ticks\":\"\"}}}],\"carpet\":[{\"aaxis\":{\"endlinecolor\":\"#2a3f5f\",\"gridcolor\":\"white\",\"linecolor\":\"white\",\"minorgridcolor\":\"white\",\"startlinecolor\":\"#2a3f5f\"},\"baxis\":{\"endlinecolor\":\"#2a3f5f\",\"gridcolor\":\"white\",\"linecolor\":\"white\",\"minorgridcolor\":\"white\",\"startlinecolor\":\"#2a3f5f\"},\"type\":\"carpet\"}],\"table\":[{\"cells\":{\"fill\":{\"color\":\"#EBF0F8\"},\"line\":{\"color\":\"white\"}},\"header\":{\"fill\":{\"color\":\"#C8D4E3\"},\"line\":{\"color\":\"white\"}},\"type\":\"table\"}],\"barpolar\":[{\"marker\":{\"line\":{\"color\":\"#E5ECF6\",\"width\":0.5},\"pattern\":{\"fillmode\":\"overlay\",\"size\":10,\"solidity\":0.2}},\"type\":\"barpolar\"}],\"pie\":[{\"automargin\":true,\"type\":\"pie\"}]},\"layout\":{\"autotypenumbers\":\"strict\",\"colorway\":[\"#636efa\",\"#EF553B\",\"#00cc96\",\"#ab63fa\",\"#FFA15A\",\"#19d3f3\",\"#FF6692\",\"#B6E880\",\"#FF97FF\",\"#FECB52\"],\"font\":{\"color\":\"#2a3f5f\"},\"hovermode\":\"closest\",\"hoverlabel\":{\"align\":\"left\"},\"paper_bgcolor\":\"white\",\"plot_bgcolor\":\"#E5ECF6\",\"polar\":{\"bgcolor\":\"#E5ECF6\",\"angularaxis\":{\"gridcolor\":\"white\",\"linecolor\":\"white\",\"ticks\":\"\"},\"radialaxis\":{\"gridcolor\":\"white\",\"linecolor\":\"white\",\"ticks\":\"\"}},\"ternary\":{\"bgcolor\":\"#E5ECF6\",\"aaxis\":{\"gridcolor\":\"white\",\"linecolor\":\"white\",\"ticks\":\"\"},\"baxis\":{\"gridcolor\":\"white\",\"linecolor\":\"white\",\"ticks\":\"\"},\"caxis\":{\"gridcolor\":\"white\",\"linecolor\":\"white\",\"ticks\":\"\"}},\"coloraxis\":{\"colorbar\":{\"outlinewidth\":0,\"ticks\":\"\"}},\"colorscale\":{\"sequential\":[[0.0,\"#0d0887\"],[0.1111111111111111,\"#46039f\"],[0.2222222222222222,\"#7201a8\"],[0.3333333333333333,\"#9c179e\"],[0.4444444444444444,\"#bd3786\"],[0.5555555555555556,\"#d8576b\"],[0.6666666666666666,\"#ed7953\"],[0.7777777777777778,\"#fb9f3a\"],[0.8888888888888888,\"#fdca26\"],[1.0,\"#f0f921\"]],\"sequentialminus\":[[0.0,\"#0d0887\"],[0.1111111111111111,\"#46039f\"],[0.2222222222222222,\"#7201a8\"],[0.3333333333333333,\"#9c179e\"],[0.4444444444444444,\"#bd3786\"],[0.5555555555555556,\"#d8576b\"],[0.6666666666666666,\"#ed7953\"],[0.7777777777777778,\"#fb9f3a\"],[0.8888888888888888,\"#fdca26\"],[1.0,\"#f0f921\"]],\"diverging\":[[0,\"#8e0152\"],[0.1,\"#c51b7d\"],[0.2,\"#de77ae\"],[0.3,\"#f1b6da\"],[0.4,\"#fde0ef\"],[0.5,\"#f7f7f7\"],[0.6,\"#e6f5d0\"],[0.7,\"#b8e186\"],[0.8,\"#7fbc41\"],[0.9,\"#4d9221\"],[1,\"#276419\"]]},\"xaxis\":{\"gridcolor\":\"white\",\"linecolor\":\"white\",\"ticks\":\"\",\"title\":{\"standoff\":15},\"zerolinecolor\":\"white\",\"automargin\":true,\"zerolinewidth\":2},\"yaxis\":{\"gridcolor\":\"white\",\"linecolor\":\"white\",\"ticks\":\"\",\"title\":{\"standoff\":15},\"zerolinecolor\":\"white\",\"automargin\":true,\"zerolinewidth\":2},\"scene\":{\"xaxis\":{\"backgroundcolor\":\"#E5ECF6\",\"gridcolor\":\"white\",\"linecolor\":\"white\",\"showbackground\":true,\"ticks\":\"\",\"zerolinecolor\":\"white\",\"gridwidth\":2},\"yaxis\":{\"backgroundcolor\":\"#E5ECF6\",\"gridcolor\":\"white\",\"linecolor\":\"white\",\"showbackground\":true,\"ticks\":\"\",\"zerolinecolor\":\"white\",\"gridwidth\":2},\"zaxis\":{\"backgroundcolor\":\"#E5ECF6\",\"gridcolor\":\"white\",\"linecolor\":\"white\",\"showbackground\":true,\"ticks\":\"\",\"zerolinecolor\":\"white\",\"gridwidth\":2}},\"shapedefaults\":{\"line\":{\"color\":\"#2a3f5f\"}},\"annotationdefaults\":{\"arrowcolor\":\"#2a3f5f\",\"arrowhead\":0,\"arrowwidth\":1},\"geo\":{\"bgcolor\":\"white\",\"landcolor\":\"#E5ECF6\",\"subunitcolor\":\"white\",\"showland\":true,\"showlakes\":true,\"lakecolor\":\"white\"},\"title\":{\"x\":0.05},\"mapbox\":{\"style\":\"light\"}}},\"scene\":{\"domain\":{\"x\":[0.0,1.0],\"y\":[0.0,1.0]},\"xaxis\":{\"title\":{\"text\":\"X\"}},\"yaxis\":{\"title\":{\"text\":\"Y\"}},\"zaxis\":{\"title\":{\"text\":\"Z\"}}},\"legend\":{\"title\":{\"text\":\"Label\"},\"tracegroupgap\":0},\"title\":{\"text\":\"3D Scatter Plot Example\"}},                        {\"responsive\": true}                    ).then(function(){\n",
              "                            \n",
              "var gd = document.getElementById('bcb84ebc-0e36-4537-ba26-5a752fcb6eae');\n",
              "var x = new MutationObserver(function (mutations, observer) {{\n",
              "        var display = window.getComputedStyle(gd).display;\n",
              "        if (!display || display === 'none') {{\n",
              "            console.log([gd, 'removed!']);\n",
              "            Plotly.purge(gd);\n",
              "            observer.disconnect();\n",
              "        }}\n",
              "}});\n",
              "\n",
              "// Listen for the removal of the full notebook cells\n",
              "var notebookContainer = gd.closest('#notebook-container');\n",
              "if (notebookContainer) {{\n",
              "    x.observe(notebookContainer, {childList: true});\n",
              "}}\n",
              "\n",
              "// Listen for the clearing of the current output cell\n",
              "var outputEl = gd.closest('.output');\n",
              "if (outputEl) {{\n",
              "    x.observe(outputEl, {childList: true});\n",
              "}}\n",
              "\n",
              "                        })                };                            </script>        </div>\n",
              "</body>\n",
              "</html>"
            ]
          },
          "metadata": {}
        }
      ]
    }
  ]
}